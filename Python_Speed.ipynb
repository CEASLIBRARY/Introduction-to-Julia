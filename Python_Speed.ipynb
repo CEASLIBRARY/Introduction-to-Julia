{
  "cells": [
    {
      "cell_type": "code",
      "execution_count": 2,
      "metadata": {
        "id": "w1505BjuvVhk"
      },
      "outputs": [],
      "source": [
        "import time"
      ]
    },
    {
      "cell_type": "code",
      "execution_count": 3,
      "metadata": {
        "id": "f2qPHrg8wWk7"
      },
      "outputs": [],
      "source": [
        "def fib(n):\n",
        "  if (n<2):\n",
        "    return n\n",
        "  else:\n",
        "    return fib(n-1)+fib(n-2)\n"
      ]
    },
    {
      "cell_type": "code",
      "execution_count": null,
      "metadata": {
        "colab": {
          "base_uri": "https://localhost:8080/"
        },
        "id": "-3uIK_-TwKLF",
        "outputId": "707668d0-01a6-441c-8841-ddec2eaea315"
      },
      "outputs": [
        {
          "ename": "",
          "evalue": "",
          "output_type": "error",
          "traceback": [
            "\u001b[1;31mRunning cells with 'Python 3.10.6 64-bit' requires ipykernel package.\n",
            "\u001b[1;31mRun the following command to install 'ipykernel' into the Python environment. \n",
            "\u001b[1;31mCommand: '/bin/python3 -m pip install ipykernel -U --user --force-reinstall'"
          ]
        }
      ],
      "source": [
        "t1 = time.time()\n",
        "print(fib(30))\n",
        "t2 = time.time()\n",
        "print((t2-t1)*1000,\" \", \"Milliseconds\")"
      ]
    }
  ],
  "metadata": {
    "colab": {
      "authorship_tag": "ABX9TyMjXWJ0mv/lnQlLLv6CGltq",
      "include_colab_link": true,
      "name": "Python Speed.ipynb",
      "provenance": []
    },
    "kernelspec": {
      "display_name": "Python 3.10.6 64-bit",
      "language": "python",
      "name": "python3"
    },
    "language_info": {
      "name": "python",
      "version": "3.10.6"
    },
    "vscode": {
      "interpreter": {
        "hash": "916dbcbb3f70747c44a77c7bcd40155683ae19c65e1c03b4aa3499c5328201f1"
      }
    }
  },
  "nbformat": 4,
  "nbformat_minor": 0
}
