{
  "cells": [
    {
      "cell_type": "markdown",
      "metadata": {
        "id": "xEt6HbN0b7q8"
      },
      "source": [
        "# **Workshop : Introduction to Julia**   ..............................                                             <img src=\"https://github.com/JuliaLang/julia-logo-graphics/raw/master/images/julia-logo-color.png\" height=\"60\" /> ............................\n",
        "\n",
        "\n",
        "# *Objectives*\n",
        "* Introduction to Julia \n",
        "  * Basics of Julia :  a brief backgound.\n",
        "  * Setting up Julia IDE or REPL Environment.\n",
        "* Hands on with Julia\n",
        "   * Variables and Data Types.\n",
        "   * Functions.\n",
        "   * Data Structures.\n",
        "   * Control Flow.\n",
        "\n",
        "# *Future Topics*\n",
        "\n",
        "Varibale Scope, Modules, Packages, Plotting, Parallel computing, Code Optimization and Interoperability.\n",
        "   \n",
        "\n",
        "\n",
        "\n",
        "\n",
        "\n"
      ]
    },
    {
      "cell_type": "markdown",
      "metadata": {
        "id": "mopW6FKfHG7h"
      },
      "source": [
        "\n",
        "# **Introduction to Julia**  \n",
        "  Julia has evolved quickly since its inception in 2012.\n",
        "  * Julia user base has grown significantly with high profile users like NASA,  BlackRock, Aviva and INPE.\n",
        "  * Julia is the only programming language to win _James H. Wilkinson Prize for Numerical Software_. \n",
        "  * Julia is general purpose programming language with wide range of applications, including _data science, complex linear algebra, data mining, and machine learning_. \n",
        "\n",
        "\n",
        "# **Julia _vs._ C++/C _vs._ Python**\n",
        "\n",
        " Julia feels like python but runs like C++/C. Infact julia gives you an option to write your code with much flexibility. You can code like python or to boost profermance you type everything statistically like C++.\n",
        " \n",
        "# **Ways to run Julia**\n",
        "\n",
        "Three ways to run Julia code: \n",
        "  * the first one is through the Julia REPL,\n",
        "  * through the IDE: _Juno , VSCode_, and\n",
        "  * Cloud Platforms: _Colab, Kaggle, CoCalc, Azure etc_.\n",
        "\n",
        "# **Google Colabs Instructions**\n",
        "\n",
        "* Execute the following cell (click on it and press Ctrl+Enter) to install Julia, IJulia and other packages (if needed, update JULIA_VERSION and the other parameters). This takes a couple of minutes.\n",
        "*Reload this page (press Ctrl+R, or ⌘+R, or the F5 key) and continue to the next section.\n",
        "\n",
        "*Notes:*\n",
        "\n",
        "* If your Colab Runtime gets reset (e.g., due to inactivity), repeat steps 2, 3 and 4.\n",
        "* After installation, if you want to change the Julia version or activate/deactivate the GPU, you will need to reset the Runtime: Runtime > Factory reset runtime and repeat steps 3 and 4.\n"
      ]
    },
    {
      "cell_type": "code",
      "execution_count": null,
      "metadata": {
        "id": "OMnAG0sYt8IP",
        "outputId": "a79ad042-22b9-4111-9d0d-cb15310a873b"
      },
      "outputs": [
        {
          "name": "stderr",
          "output_type": "stream",
          "text": [
            "UsageError: Cell magic `%%shell` not found.\n"
          ]
        }
      ],
      "source": [
        "%%shell\n",
        "set -e\n",
        "\n",
        "#---------------------------------------------------#\n",
        "JULIA_VERSION=\"1.7.1\" # any version ≥ 0.7.0\n",
        "JULIA_PACKAGES=\"IJulia BenchmarkTools Plots\"\n",
        "JULIA_PACKAGES_IF_GPU=\"CUDA\" # or CuArrays for older Julia versions\n",
        "JULIA_NUM_THREADS=2\n",
        "#---------------------------------------------------#\n",
        "\n",
        "if [ -n \"$COLAB_GPU\" ] && [ -z `which julia` ]; then\n",
        "  # Install Julia\n",
        "  JULIA_VER=`cut -d '.' -f -2 <<< \"$JULIA_VERSION\"`\n",
        "  echo \"Installing Julia $JULIA_VERSION on the current Colab Runtime...\"\n",
        "  BASE_URL=\"https://julialang-s3.julialang.org/bin/linux/x64\"\n",
        "  URL=\"$BASE_URL/$JULIA_VER/julia-$JULIA_VERSION-linux-x86_64.tar.gz\"\n",
        "  wget -nv $URL -O /tmp/julia.tar.gz # -nv means \"not verbose\"\n",
        "  tar -x -f /tmp/julia.tar.gz -C /usr/local --strip-components 1\n",
        "  rm /tmp/julia.tar.gz\n",
        "\n",
        "  # Install Packages\n",
        "  if [ \"$COLAB_GPU\" = \"1\" ]; then\n",
        "      JULIA_PACKAGES=\"$JULIA_PACKAGES $JULIA_PACKAGES_IF_GPU\"\n",
        "  fi\n",
        "  for PKG in `echo $JULIA_PACKAGES`; do\n",
        "    echo \"Installing Julia package $PKG...\"\n",
        "    julia -e 'using Pkg; pkg\"add '$PKG'; precompile;\"' &> /dev/null\n",
        "  done\n",
        "\n",
        "  # Install kernel and rename it to \"julia\"\n",
        "  echo \"Installing IJulia kernel...\"\n",
        "  julia -e 'using IJulia; IJulia.installkernel(\"julia\", env=Dict(\n",
        "      \"JULIA_NUM_THREADS\"=>\"'\"$JULIA_NUM_THREADS\"'\"))'\n",
        "  KERNEL_DIR=`julia -e \"using IJulia; print(IJulia.kerneldir())\"`\n",
        "  KERNEL_NAME=`ls -d \"$KERNEL_DIR\"/julia*`\n",
        "  mv -f $KERNEL_NAME \"$KERNEL_DIR\"/julia  \n",
        "\n",
        "  echo ''\n",
        "  echo \"Successfully installed `julia -v`!\"\n",
        "  echo \"Please reload this page (press Ctrl+R, ⌘+R, or the F5 key) then\"\n",
        "  echo \"jump to the 'Checking the Installation' section.\"\n",
        "fi"
      ]
    },
    {
      "cell_type": "markdown",
      "metadata": {
        "id": "93jr5LfNAbVG"
      },
      "source": [
        "# REPL allows you to execute code line by line\n",
        "\n",
        "**Basic arithmetic operations**\n",
        "* _Number Addition_\n"
      ]
    },
    {
      "cell_type": "code",
      "execution_count": null,
      "metadata": {
        "id": "0NuSZq_HAbVI",
        "outputId": "a215eec8-509a-46fc-d88c-ca0ac5cb476d"
      },
      "outputs": [
        {
          "data": {
            "text/plain": [
              "7"
            ]
          },
          "execution_count": 218,
          "metadata": {},
          "output_type": "execute_result"
        }
      ],
      "source": [
        "3+4"
      ]
    },
    {
      "cell_type": "markdown",
      "metadata": {
        "id": "d5mBvbBlAbVL"
      },
      "source": [
        "* subtraction, addition, multiplication, power, square-root, log etc."
      ]
    },
    {
      "cell_type": "code",
      "execution_count": null,
      "metadata": {
        "id": "ftvYye1NAbVN",
        "outputId": "fa046dfd-0a52-4324-8783-8fe32ec1c114"
      },
      "outputs": [
        {
          "name": "stdout",
          "output_type": "stream",
          "text": [
            "-2\n",
            "92\n",
            "16\n",
            "9.591663046625438\n",
            "5.830951894845301\n",
            "3.1354942159291497\n"
          ]
        }
      ],
      "source": [
        "println(4-6)\n",
        "println(4*23)\n",
        "println(4^2)\n",
        "println(√92)\n",
        "println(sqrt(34))\n",
        "println(log(23))\n"
      ]
    },
    {
      "cell_type": "markdown",
      "metadata": {
        "id": "HjKvQ5uCAbVQ"
      },
      "source": [
        "**Boolean/Logical operators** \n",
        "*  _&, xor, ||, nand_"
      ]
    },
    {
      "cell_type": "code",
      "execution_count": null,
      "metadata": {
        "id": "PB0GtIrIAbVS",
        "outputId": "48947140-a0e3-4fe4-87a2-226746abb3bc"
      },
      "outputs": [
        {
          "name": "stdout",
          "output_type": "stream",
          "text": [
            "true\n",
            "false\n",
            "true\n",
            "true\n"
          ]
        }
      ],
      "source": [
        "println(true || false)\n",
        "println(true & false)\n",
        "println(xor(true, false))\n",
        "println(nand(true,false))"
      ]
    },
    {
      "cell_type": "markdown",
      "metadata": {
        "id": "0KmR4F71AbVY"
      },
      "source": [
        "# Precision\n",
        "* _Float + Int Addition_\n",
        "<div>\n",
        "    <img src=\"https://github.com/CEASLIBRARY/Introduction-to-Julia/blob/main/enlightenment-symbol.png?raw=1\"  width=\"50\"  />\n",
        " </div>    \n",
        "\n",
        "* _Resultant data type is same as highest precision operand_\n",
        " "
      ]
    },
    {
      "cell_type": "code",
      "execution_count": null,
      "metadata": {
        "id": "LXRYh3kOAbVZ",
        "outputId": "5596ddf2-4c1c-433c-9ff7-8cb85dc0f05e"
      },
      "outputs": [
        {
          "data": {
            "text/plain": [
              "7.0"
            ]
          },
          "execution_count": 2,
          "metadata": {},
          "output_type": "execute_result"
        }
      ],
      "source": [
        "2 + 5.0"
      ]
    },
    {
      "cell_type": "markdown",
      "metadata": {
        "id": "_V_nKRLHAbVb"
      },
      "source": [
        "**Basic Complex Numbers operations**\n",
        "* _Complex Number Addition_"
      ]
    },
    {
      "cell_type": "code",
      "execution_count": null,
      "metadata": {
        "id": "LyhWJoBcAbVd",
        "outputId": "dcf53113-ff60-4f55-d4d5-5bee8d955976"
      },
      "outputs": [
        {
          "data": {
            "text/plain": [
              "3 + 4im"
            ]
          },
          "execution_count": 3,
          "metadata": {},
          "output_type": "execute_result"
        }
      ],
      "source": [
        "3+4im"
      ]
    },
    {
      "cell_type": "code",
      "execution_count": null,
      "metadata": {
        "id": "_8qEyMEQAbVe",
        "outputId": "f494027d-b6a8-47fc-836e-6ca222c420a9"
      },
      "outputs": [
        {
          "data": {
            "text/plain": [
              "-42 + 25im"
            ]
          },
          "execution_count": 4,
          "metadata": {},
          "output_type": "execute_result"
        }
      ],
      "source": [
        "(3+2im)-(45-23im)"
      ]
    },
    {
      "cell_type": "markdown",
      "metadata": {
        "id": "QSiF5vCaAbVg"
      },
      "source": [
        "**Basic Fractional Numbers operations**\n",
        "* _Fraction Representioan_"
      ]
    },
    {
      "cell_type": "code",
      "execution_count": null,
      "metadata": {
        "id": "BD24d_myAbVh",
        "outputId": "7e6cc39a-626c-48ed-a757-177b64b7c509"
      },
      "outputs": [
        {
          "data": {
            "text/plain": [
              "3//5"
            ]
          },
          "execution_count": 6,
          "metadata": {},
          "output_type": "execute_result"
        }
      ],
      "source": [
        "3//5"
      ]
    },
    {
      "cell_type": "code",
      "execution_count": null,
      "metadata": {
        "id": "jyM3YMUlAbVj",
        "outputId": "2dda7bf3-4563-4ee9-9294-8bb2e0262a1e"
      },
      "outputs": [
        {
          "data": {
            "text/plain": [
              "51//10"
            ]
          },
          "execution_count": 7,
          "metadata": {},
          "output_type": "execute_result"
        }
      ],
      "source": [
        "3//5 + 9//2"
      ]
    },
    {
      "cell_type": "code",
      "execution_count": null,
      "metadata": {
        "id": "F5iX1MiPAbVo",
        "outputId": "48c79ca3-9679-41e0-f4ce-f810d93b8315"
      },
      "outputs": [
        {
          "data": {
            "text/plain": [
              "223//21"
            ]
          },
          "execution_count": 8,
          "metadata": {},
          "output_type": "execute_result"
        }
      ],
      "source": [
        "34//21 + 9"
      ]
    },
    {
      "cell_type": "markdown",
      "metadata": {
        "id": "tbEoDx0vAbVp"
      },
      "source": [
        "**How to know the type of variable**\n",
        "<div>\n",
        "   <img src=\"https://github.com/CEASLIBRARY/Introduction-to-Julia/blob/main/enlightenment-symbol.png?raw=1\"  width=\"50\"  />\n",
        " </div>  \n",
        " \n",
        " _typeof(variable)_ \n",
        "\n",
        "**will let you know the type inferred by Julia**"
      ]
    },
    {
      "cell_type": "code",
      "execution_count": null,
      "metadata": {
        "id": "LR2k-x_tAbVq",
        "outputId": "084c05a7-ee70-42e2-e903-6379a7aaa711"
      },
      "outputs": [
        {
          "data": {
            "text/plain": [
              "Int64"
            ]
          },
          "execution_count": 9,
          "metadata": {},
          "output_type": "execute_result"
        }
      ],
      "source": [
        "typeof(1)"
      ]
    },
    {
      "cell_type": "code",
      "execution_count": null,
      "metadata": {
        "id": "xRspi0HgAbVs",
        "outputId": "0eb761ac-9389-478c-84fb-a09b95f6d6c6"
      },
      "outputs": [
        {
          "data": {
            "text/plain": [
              "Rational{Int64}"
            ]
          },
          "execution_count": 12,
          "metadata": {},
          "output_type": "execute_result"
        }
      ],
      "source": [
        "typeof(34//20 + 9)"
      ]
    },
    {
      "cell_type": "code",
      "execution_count": null,
      "metadata": {
        "id": "aR5dNuAOAbVt",
        "outputId": "04a29b6f-a22e-4418-ef14-b16e91b2f76d"
      },
      "outputs": [
        {
          "data": {
            "text/plain": [
              "Complex{Int64}"
            ]
          },
          "execution_count": 13,
          "metadata": {},
          "output_type": "execute_result"
        }
      ],
      "source": [
        "typeof(4+7im)"
      ]
    },
    {
      "cell_type": "markdown",
      "metadata": {
        "id": "S8PHGPQ8vVXm"
      },
      "source": [
        "# **Variables and Types**"
      ]
    },
    {
      "cell_type": "markdown",
      "metadata": {
        "id": "4puv5QZvAbVv"
      },
      "source": [
        "* Julia let you declare a vaiable without explietly mantion the datatype.\n",
        "* Julia infered its type based on the value assigned to it.\n",
        "<div>\n",
        "     <img src=\"https://github.com/CEASLIBRARY/Introduction-to-Julia/blob/main/enlightenment-symbol.png?raw=1\"  width=\"50\"  />  \n",
        "</div>\n",
        "<div>\n",
        "   <img src=\"https://github.com/CEASLIBRARY/Introduction-to-Julia/blob/main/Datatypes.png?raw=1\"  width=\"500\"  /> <img src=\"https://github.com/CEASLIBRARY/Introduction-to-Julia/blob/main/enlightenment-symbol.png?raw=1\"  width=\"50\"  />  \n",
        " </div>  \n",
        "\n",
        "**From performance point of view, you should not change the datatype after its intialization**"
      ]
    },
    {
      "cell_type": "markdown",
      "metadata": {
        "id": "tTOR1drUAbVw"
      },
      "source": [
        "# Declaring and Initializing Variables\n",
        "* **age is a vaiable name and is assigned a value using = operator**\n",
        "* **Variables in Julia can be declared by just writing their name. There’s no need to define a datatype with it.**"
      ]
    },
    {
      "cell_type": "code",
      "execution_count": null,
      "metadata": {
        "id": "klAmDZrxyIMs",
        "outputId": "67dbf707-09bd-46de-8bda-85ed1f73f0e7"
      },
      "outputs": [
        {
          "data": {
            "text/plain": [
              "5"
            ]
          },
          "execution_count": 14,
          "metadata": {},
          "output_type": "execute_result"
        }
      ],
      "source": [
        "age = 5"
      ]
    },
    {
      "cell_type": "markdown",
      "metadata": {
        "id": "7--DUNvZAbVx"
      },
      "source": [
        "## Rules for naming a variable in Julia\n",
        "* Variable names in Julia must start with an underscore, a letter(A-Z or a-z) or a Unicode character greater than 00A0(nbsp).\n",
        "* Variable names can also contain digits(0-9) or !, but must not begin with these.\n",
        "* Operators like (+, ^, etc.) can also be used to name a variable.\n",
        "* Variable names can also be written as words seperated by underscore, but that is not a good practice and must be avoided unless necessary.\n",
        "* LaTeX sybols as variable names; Help in succict and readable mathematic functions"
      ]
    },
    {
      "cell_type": "code",
      "execution_count": null,
      "metadata": {
        "id": "Rrwzz2uOAPXZ",
        "outputId": "0be6c90e-beab-4e1b-fb03-ecb7a1472eb6"
      },
      "outputs": [
        {
          "data": {
            "text/plain": [
              "23"
            ]
          },
          "execution_count": 16,
          "metadata": {},
          "output_type": "execute_result"
        }
      ],
      "source": [
        "θ = 5\n",
        "Θ = 9\n",
        "ϕ = 9\n",
        "Φ = 23\n",
        "ϵ = 9\n",
        "ζ = 23\n",
        "κ = 23\n",
        "δ = 23\n",
        "Δ  = 23\n"
      ]
    },
    {
      "cell_type": "markdown",
      "metadata": {
        "id": "tMWa1dQbAbV3"
      },
      "source": [
        "# Statically Typed *Variable* Names"
      ]
    },
    {
      "cell_type": "code",
      "execution_count": null,
      "metadata": {
        "colab": {
          "base_uri": "https://localhost:8080/",
          "height": 171
        },
        "id": "gNWIQmb7ARce",
        "outputId": "37ed7026-da94-4b72-d15f-72f41a4cefb0"
      },
      "outputs": [
        {
          "data": {
            "text/plain": [
              "5"
            ]
          },
          "execution_count": 28,
          "metadata": {},
          "output_type": "execute_result"
        }
      ],
      "source": [
        "x = 5::Int64"
      ]
    },
    {
      "cell_type": "code",
      "execution_count": null,
      "metadata": {
        "id": "eypmfns3AbV6",
        "outputId": "a6126ae2-e109-4b87-d3f0-264faab77e7a"
      },
      "outputs": [
        {
          "name": "stdout",
          "output_type": "stream",
          "text": [
            "-9223372036854775808\n",
            "9223372036854775807"
          ]
        }
      ],
      "source": [
        "print(typemin(Int64),\"\\n\")\n",
        "print(typemax(Int64))"
      ]
    },
    {
      "cell_type": "code",
      "execution_count": null,
      "metadata": {
        "id": "1yXWCm5CAbV7",
        "outputId": "75770082-9538-4dbf-84e3-b4c8698634b6"
      },
      "outputs": [
        {
          "data": {
            "text/plain": [
              "String"
            ]
          },
          "execution_count": 41,
          "metadata": {},
          "output_type": "execute_result"
        }
      ],
      "source": [
        "x = \"345\"::String\n",
        "typeof(x)"
      ]
    },
    {
      "cell_type": "markdown",
      "metadata": {
        "tags": [],
        "id": "SLJxxXcwAbV9"
      },
      "source": [
        "## Type Conversion\n",
        "* Use _convert function (targettype,varibale)_\n",
        "* Always from low to high precision.\n",
        "* Use trunc/floor etc. to get to lower precision."
      ]
    },
    {
      "cell_type": "code",
      "execution_count": null,
      "metadata": {
        "id": "afbinKugAbV-",
        "outputId": "f5269600-7756-41fb-ac76-d099b6f69feb"
      },
      "outputs": [
        {
          "name": "stdout",
          "output_type": "stream",
          "text": [
            "3.0\n"
          ]
        }
      ],
      "source": [
        "x = 3\n",
        "println(convert(Float64,x))"
      ]
    },
    {
      "cell_type": "markdown",
      "metadata": {
        "id": "n4ZAzPYZAbV-"
      },
      "source": [
        "## String to Number Conversion in Julia\n",
        "* Parse function (T::Type, str, base=Int)"
      ]
    },
    {
      "cell_type": "code",
      "execution_count": null,
      "metadata": {
        "id": "odp8A7FtAbV_",
        "outputId": "a7637a46-63bb-4324-ed3b-28a505f1bf40"
      },
      "outputs": [
        {
          "name": "stdout",
          "output_type": "stream",
          "text": [
            "10004\n",
            "23424\n",
            "144420\n"
          ]
        }
      ],
      "source": [
        "println(parse(Int64,\"23424\",base = 8))\n",
        "println(parse(Int64,\"23424\",base = 10))\n",
        "println(parse(Int64,\"23424\",base = 16))"
      ]
    },
    {
      "cell_type": "markdown",
      "metadata": {
        "id": "PW5oQv5DAbWB"
      },
      "source": [
        "# **String Initialization and Operators**"
      ]
    },
    {
      "cell_type": "code",
      "execution_count": null,
      "metadata": {
        "id": "C6BmKm4sAbWB",
        "outputId": "6aea3306-6124-48cd-fdd8-502acdd2326d"
      },
      "outputs": [
        {
          "name": "stdout",
          "output_type": "stream",
          "text": [
            "University of Cincinnati\n",
            "sf\n",
            "abcdefgef\n"
          ]
        }
      ],
      "source": [
        "x = \"University of Cincinnati\"\n",
        "println(x)\n",
        "println(string(\"sf\"))\n",
        "println(string(\"abc\",\"def\",\"gef\"))"
      ]
    },
    {
      "cell_type": "markdown",
      "metadata": {
        "id": "cwCCrRXEAbWC"
      },
      "source": [
        "## String Indexing, Slicing and Operators\n",
        "\n",
        "* x[1]- first character, x[2] = second character. **Indexing**\n",
        "* x[2:4]- second to fourth character **Slicing**\n",
        "* x[end]- backward slicing \n",
        "* _*_ Concatination Operation\n",
        "* ^ repetition\n",
        "* Use _begin_ and _end_ to access string from front and back respectively"
      ]
    },
    {
      "cell_type": "code",
      "execution_count": 1,
      "metadata": {
        "id": "EZzhWuc-AbWD",
        "outputId": "15776c67-9875-4fc7-a89b-6bd39ef4a049",
        "colab": {
          "base_uri": "https://localhost:8080/",
          "height": 244
        }
      },
      "outputs": [
        {
          "output_type": "error",
          "ename": "NameError",
          "evalue": "ignored",
          "traceback": [
            "\u001b[0;31m---------------------------------------------------------------------------\u001b[0m",
            "\u001b[0;31mNameError\u001b[0m                                 Traceback (most recent call last)",
            "\u001b[0;32m<ipython-input-1-63e3cb6c4f72>\u001b[0m in \u001b[0;36m<module>\u001b[0;34m()\u001b[0m\n\u001b[0;32m----> 1\u001b[0;31m \u001b[0mprintln\u001b[0m\u001b[0;34m(\u001b[0m\u001b[0mx\u001b[0m\u001b[0;34m[\u001b[0m\u001b[0;36m1\u001b[0m\u001b[0;34m]\u001b[0m\u001b[0;34m,\u001b[0m\u001b[0mx\u001b[0m\u001b[0;34m[\u001b[0m\u001b[0;36m15\u001b[0m\u001b[0;34m]\u001b[0m\u001b[0;34m)\u001b[0m\u001b[0;34m\u001b[0m\u001b[0;34m\u001b[0m\u001b[0m\n\u001b[0m\u001b[1;32m      2\u001b[0m \u001b[0mprintln\u001b[0m\u001b[0;34m(\u001b[0m\u001b[0mx\u001b[0m\u001b[0;34m[\u001b[0m\u001b[0;36m3\u001b[0m\u001b[0;34m]\u001b[0m\u001b[0;34m,\u001b[0m\u001b[0mx\u001b[0m\u001b[0;34m[\u001b[0m\u001b[0;36m7\u001b[0m\u001b[0;34m]\u001b[0m\u001b[0;34m)\u001b[0m\u001b[0;34m\u001b[0m\u001b[0;34m\u001b[0m\u001b[0m\n\u001b[1;32m      3\u001b[0m \u001b[0mprintln\u001b[0m\u001b[0;34m(\u001b[0m\u001b[0mx\u001b[0m\u001b[0;34m[\u001b[0m\u001b[0mbegin\u001b[0m\u001b[0;34m:\u001b[0m\u001b[0mend\u001b[0m\u001b[0;34m]\u001b[0m\u001b[0;34m)\u001b[0m\u001b[0;34m\u001b[0m\u001b[0;34m\u001b[0m\u001b[0m\n\u001b[1;32m      4\u001b[0m \u001b[0mprintln\u001b[0m\u001b[0;34m(\u001b[0m\u001b[0mx\u001b[0m\u001b[0;34m[\u001b[0m\u001b[0mend\u001b[0m\u001b[0;34m-\u001b[0m\u001b[0;36m2\u001b[0m\u001b[0;34m:\u001b[0m\u001b[0mend\u001b[0m\u001b[0;34m-\u001b[0m\u001b[0;36m1\u001b[0m\u001b[0;34m]\u001b[0m\u001b[0;34m)\u001b[0m\u001b[0;34m\u001b[0m\u001b[0;34m\u001b[0m\u001b[0m\n\u001b[1;32m      5\u001b[0m \u001b[0mprintln\u001b[0m\u001b[0;34m(\u001b[0m\u001b[0mx\u001b[0m\u001b[0;34m[\u001b[0m\u001b[0mend\u001b[0m\u001b[0;34m-\u001b[0m\u001b[0;36m9\u001b[0m\u001b[0;34m:\u001b[0m\u001b[0mend\u001b[0m\u001b[0;34m]\u001b[0m\u001b[0;34m)\u001b[0m\u001b[0;34m\u001b[0m\u001b[0;34m\u001b[0m\u001b[0m\n",
            "\u001b[0;31mNameError\u001b[0m: name 'println' is not defined"
          ]
        }
      ],
      "source": [
        "println(x[1],x[15])\n",
        "println(x[3],x[7])\n",
        "println(x[begin:end])\n",
        "println(x[end-2:end-1])\n",
        "println(x[end-9:end])"
      ]
    },
    {
      "cell_type": "markdown",
      "metadata": {
        "id": "QriGo9JvCHcg"
      },
      "source": [
        "# **Comments** \n",
        "* Single Line Comment"
      ]
    },
    {
      "cell_type": "code",
      "execution_count": null,
      "metadata": {
        "id": "GmVTvlaHAbWI"
      },
      "outputs": [],
      "source": [
        "#This is Single Line Comment"
      ]
    },
    {
      "cell_type": "markdown",
      "metadata": {
        "id": "mQdXcFJlAbWJ"
      },
      "source": [
        "* Multiple Line Comments"
      ]
    },
    {
      "cell_type": "code",
      "execution_count": null,
      "metadata": {
        "id": "JpZ5HpQyAiXm"
      },
      "outputs": [],
      "source": [
        "#= This\n",
        "is\n",
        "mulitple Line\n",
        "Comment\n",
        "=#"
      ]
    },
    {
      "cell_type": "markdown",
      "metadata": {
        "id": "YfTcYznkApt5"
      },
      "source": [
        "# Hands-on  **Variable and Datatype**\n",
        "<div>\n",
        "     <img src=\"https://github.com/CEASLIBRARY/Introduction-to-Julia/blob/main/Handson.png?raw=1\"  width=\"100\"  />  \n",
        "</div>"
      ]
    },
    {
      "cell_type": "markdown",
      "metadata": {
        "id": "LH9k7gmRAoqg"
      },
      "source": [
        "### The Rule of 72 applies to cases of compound interest. \n",
        "**Compound interest is calculated on both the initial principal and the accumulated interest of previous periods of a deposit.**\n",
        "* To calculate the time period an investment will double, divide the integer 72 by the expected rate of return. "
      ]
    },
    {
      "cell_type": "code",
      "execution_count": null,
      "metadata": {
        "id": "eTbUv_yCAbWL",
        "outputId": "144d947c-c4a1-48c9-c378-2ce618334bb8"
      },
      "outputs": [
        {
          "data": {
            "text/plain": [
              "12.0"
            ]
          },
          "execution_count": 4,
          "metadata": {},
          "output_type": "execute_result"
        }
      ],
      "source": [
        "# You have 10,000 in you bank account\n",
        "\n",
        "#= Bank Provides you an annual interest rate of 6% =#\n",
        "time = 72/6\n",
        "# Find the time in which your fortune doubles.\n",
        "#12 - 20,000\n",
        "# When Will you become millionaire\n",
        "\n",
        "#24 - 40,000\n",
        "#36 - 80,000\n",
        "#48 - 1,60,000\n",
        "#60 - 3,20,000\n",
        "#72 - 6,40,000\n",
        "#84 - 12,80,000\n",
        "#96 - 25,60,000\n",
        "#108 - 51,20,000\n",
        "#120 - 1,0240,000\n",
        "\n",
        "# When Will you become billionaire\n",
        "\n",
        "#2^time *10000 = 12*time\n",
        "#(72/interest)*t = 2^t*principle\n",
        "\n",
        "#2^t = 1,000,000,000/10,000 = 100,000\n",
        "#t = log(100,000)\n",
        "#time = 100\n",
        "\n"
      ]
    },
    {
      "cell_type": "code",
      "execution_count": null,
      "metadata": {
        "id": "5TtUMPZjAbWN",
        "outputId": "2156a7f1-2f4e-47f3-ed9f-9f05d66c9910"
      },
      "outputs": [
        {
          "data": {
            "text/plain": [
              "159.45254855459342"
            ]
          },
          "execution_count": 20,
          "metadata": {},
          "output_type": "execute_result"
        }
      ],
      "source": [
        "log(2,100000000/10000)*12"
      ]
    },
    {
      "cell_type": "markdown",
      "metadata": {
        "id": "reuiMdtcvrBm"
      },
      "source": [
        "# **Functions**\n",
        "* #### Operators are _functions_ and written in **infix** notation\n",
        "  * Boolean/Logical. \n",
        "  ### (&,   ||,    xor,   nand)\n",
        "  * Arithmatic. \n",
        "  ### ( +,  -,  /,  *,  √,  ^,  log etc.)"
      ]
    },
    {
      "cell_type": "code",
      "execution_count": null,
      "metadata": {
        "id": "RfC_QbXpAbWO",
        "outputId": "707a5eef-4911-4220-eefe-2151a6cc5182"
      },
      "outputs": [
        {
          "name": "stdout",
          "output_type": "stream",
          "text": [
            "7\n",
            "0.75\n",
            "12\n",
            "81\n"
          ]
        }
      ],
      "source": [
        "println(+(3,4))\n",
        "println(/(3,4))\n",
        "println(*(3,4))\n",
        "println(^(3,4))"
      ]
    },
    {
      "cell_type": "markdown",
      "metadata": {
        "id": "IYWtv7VcAbWP"
      },
      "source": [
        "\n",
        "## Generic Functions\n",
        "  \n",
        "### **Standard Definition.**\n",
        "  "
      ]
    },
    {
      "cell_type": "code",
      "execution_count": null,
      "metadata": {
        "id": "W4rvs_tYvqRh",
        "outputId": "028a3caf-21cc-4c7e-b302-973071619331"
      },
      "outputs": [
        {
          "data": {
            "text/plain": [
              "squareroot (generic function with 1 method)"
            ]
          },
          "execution_count": 35,
          "metadata": {},
          "output_type": "execute_result"
        }
      ],
      "source": [
        "function squareroot(a)\n",
        "    return √a\n",
        "end"
      ]
    },
    {
      "cell_type": "code",
      "execution_count": null,
      "metadata": {
        "id": "fAkYuBdMAbWQ",
        "outputId": "59b79b09-8fcd-4efd-955b-7ca1f98c270b"
      },
      "outputs": [
        {
          "data": {
            "text/plain": [
              "squareroot (generic function with 1 method)"
            ]
          },
          "execution_count": 39,
          "metadata": {},
          "output_type": "execute_result"
        }
      ],
      "source": [
        "function squareroot(a) ::Float64\n",
        "    return √a\n",
        "end"
      ]
    },
    {
      "cell_type": "markdown",
      "metadata": {
        "id": "Ii0vQQILAbWR"
      },
      "source": [
        " ### **Inline Functions.**"
      ]
    },
    {
      "cell_type": "code",
      "execution_count": null,
      "metadata": {
        "id": "bscK6HmxAbWR",
        "outputId": "3748b74a-c1d1-4027-d8e4-e254697c6e34"
      },
      "outputs": [
        {
          "data": {
            "text/plain": [
              "f (generic function with 1 method)"
            ]
          },
          "execution_count": 42,
          "metadata": {},
          "output_type": "execute_result"
        }
      ],
      "source": [
        "f(x) = x^2 + x + √(x+6x^2)"
      ]
    },
    {
      "cell_type": "code",
      "execution_count": null,
      "metadata": {
        "id": "vgGvqs0lAbWS",
        "outputId": "b2548e49-e001-4c42-ce91-5e346d3c9835"
      },
      "outputs": [
        {
          "data": {
            "text/plain": [
              "f (generic function with 2 methods)"
            ]
          },
          "execution_count": 195,
          "metadata": {},
          "output_type": "execute_result"
        }
      ],
      "source": [
        "f(y) = [x^2 for x in y]"
      ]
    },
    {
      "cell_type": "code",
      "execution_count": null,
      "metadata": {
        "id": "d6kVRqAJAbWT",
        "outputId": "1ecb88e6-9103-46ed-9960-d20b1a6aa345"
      },
      "outputs": [
        {
          "name": "stdout",
          "output_type": "stream",
          "text": [
            "[4, 9, 16, 25]\n"
          ]
        }
      ],
      "source": [
        "println(f([2,3,4,5]))"
      ]
    },
    {
      "cell_type": "code",
      "execution_count": null,
      "metadata": {
        "id": "tNvec1nBAbWU",
        "outputId": "9348ff99-f495-4de6-b698-ee65fa8d0891"
      },
      "outputs": [
        {
          "data": {
            "text/plain": [
              "f (generic function with 2 methods)"
            ]
          },
          "execution_count": 197,
          "metadata": {},
          "output_type": "execute_result"
        }
      ],
      "source": [
        "f(y) = (x^2 for x in y)"
      ]
    },
    {
      "cell_type": "code",
      "execution_count": null,
      "metadata": {
        "id": "CzZNeY76AbWV",
        "outputId": "7f5a31f0-d22d-47c6-be59-8062ae4d3e7c"
      },
      "outputs": [
        {
          "name": "stdout",
          "output_type": "stream",
          "text": [
            "491625\n"
          ]
        }
      ],
      "source": [
        "println(f([2,3,4,5])...)"
      ]
    },
    {
      "cell_type": "code",
      "execution_count": null,
      "metadata": {
        "id": "GDKj8dHoAbWW",
        "outputId": "417fb880-d9ac-4f36-8c45-38172d6a27fa"
      },
      "outputs": [
        {
          "data": {
            "text/plain": [
              "∑ (generic function with 1 method)"
            ]
          },
          "execution_count": 43,
          "metadata": {},
          "output_type": "execute_result"
        }
      ],
      "source": [
        "∑(x,y) = x+y"
      ]
    },
    {
      "cell_type": "code",
      "execution_count": null,
      "metadata": {
        "id": "5iyhlcigAbWY",
        "outputId": "722fd9b7-874b-4def-9dc0-1f10bd19812d"
      },
      "outputs": [
        {
          "data": {
            "text/plain": [
              "factorial! (generic function with 1 method)"
            ]
          },
          "execution_count": 57,
          "metadata": {},
          "output_type": "execute_result"
        }
      ],
      "source": [
        "factorial!(x::Int64) = x == 1 ? one(x) : factorial!(x-1)*x"
      ]
    },
    {
      "cell_type": "code",
      "execution_count": null,
      "metadata": {
        "id": "XYXQ9LfYAbWZ",
        "outputId": "83574691-a9a7-413e-8ebb-cddc2967dd25"
      },
      "outputs": [
        {
          "data": {
            "text/plain": [
              "6"
            ]
          },
          "execution_count": 59,
          "metadata": {},
          "output_type": "execute_result"
        }
      ],
      "source": [
        "factorial!(3::Int64)"
      ]
    },
    {
      "cell_type": "code",
      "execution_count": null,
      "metadata": {
        "id": "vLWV1UxrAbWa",
        "outputId": "8f17d137-831c-4091-fa78-1e78d715efa3"
      },
      "outputs": [
        {
          "data": {
            "text/plain": [
              "fib (generic function with 1 method)"
            ]
          },
          "execution_count": 44,
          "metadata": {},
          "output_type": "execute_result"
        }
      ],
      "source": [
        "fib(n::Integer) = n ≤ 2 ? one(n) : fib(n-1) + fib(n-2)"
      ]
    },
    {
      "cell_type": "markdown",
      "metadata": {
        "id": "f1Z0sUBRAbWb"
      },
      "source": [
        "### **Anonymous/ Lamdba Expressions.**"
      ]
    },
    {
      "cell_type": "code",
      "execution_count": null,
      "metadata": {
        "id": "d8j2DXRVAbWc",
        "outputId": "f1b47fb4-a9bc-4291-957c-4a9f53f5fff7"
      },
      "outputs": [
        {
          "data": {
            "text/plain": [
              "#1 (generic function with 1 method)"
            ]
          },
          "execution_count": 60,
          "metadata": {},
          "output_type": "execute_result"
        }
      ],
      "source": [
        "x -> x^+2+3x+4"
      ]
    },
    {
      "cell_type": "code",
      "execution_count": null,
      "metadata": {
        "id": "6ItwFs3WAbWc",
        "outputId": "6b7800b6-7705-4072-c504-3d266df9b3e0"
      },
      "outputs": [
        {
          "data": {
            "text/plain": [
              "5-element Vector{Int64}:\n",
              "  7\n",
              " 12\n",
              " 19\n",
              " 28\n",
              " 39"
            ]
          },
          "execution_count": 62,
          "metadata": {},
          "output_type": "execute_result"
        }
      ],
      "source": [
        "map(x->x^2+2x+4,[1,2,3,4,5])"
      ]
    },
    {
      "cell_type": "code",
      "execution_count": null,
      "metadata": {
        "id": "2IHuVIMNAbWd",
        "outputId": "7a6039a6-9a23-4fce-d569-ebe0ba029b73"
      },
      "outputs": [
        {
          "data": {
            "text/plain": [
              "5-element Vector{String}:\n",
              " \"111\"\n",
              " \"222\"\n",
              " \"333\"\n",
              " \"444\"\n",
              " \"555\""
            ]
          },
          "execution_count": 66,
          "metadata": {},
          "output_type": "execute_result"
        }
      ],
      "source": [
        "map(x-> x*x*x,[\"1\",\"2\",\"3\",\"4\",\"5\"])"
      ]
    },
    {
      "cell_type": "markdown",
      "metadata": {
        "tags": [],
        "id": "px9gcVlFAbWe"
      },
      "source": [
        "# Hands-on  **Functions**\n",
        "<div>\n",
        "     <img src=\"https://github.com/CEASLIBRARY/Introduction-to-Julia/blob/main/Handson.png?raw=1\"  width=\"100\"  />  \n",
        "</div>"
      ]
    },
    {
      "cell_type": "markdown",
      "metadata": {
        "id": "X2aa80C7AbWf"
      },
      "source": [
        "## Generate Cincinnati word by merging letters[cinat]; you can replicate your substrings\n",
        "\n",
        "* x = 2*(\"cin\") + \"nat\"+i"
      ]
    },
    {
      "cell_type": "code",
      "execution_count": null,
      "metadata": {
        "id": "qs4NAgSTAbWf",
        "outputId": "f5d8da88-a254-4087-d4bc-d4161c72fff4"
      },
      "outputs": [
        {
          "data": {
            "text/plain": [
              "\"cincinnati\""
            ]
          },
          "execution_count": 98,
          "metadata": {},
          "output_type": "execute_result"
        }
      ],
      "source": [
        "x = string(string('c','i','n')^2 , string('n','a','t','i'))"
      ]
    },
    {
      "cell_type": "code",
      "execution_count": null,
      "metadata": {
        "id": "lQ5swCGGAbWg",
        "outputId": "7ab969dd-593f-48ad-d0cb-7b3bcc82dac0"
      },
      "outputs": [
        {
          "name": "stdout",
          "output_type": "stream",
          "text": [
            "cincinnati\n"
          ]
        }
      ],
      "source": [
        "x = \"cinat\"\n",
        "println(x[begin:3]^2*x[3:end]*x[2])"
      ]
    },
    {
      "cell_type": "code",
      "execution_count": null,
      "metadata": {
        "id": "F62v6dPEAbWg"
      },
      "outputs": [],
      "source": [
        ""
      ]
    },
    {
      "cell_type": "markdown",
      "metadata": {
        "id": "LnbKsiN-BPa5"
      },
      "source": [
        "# **Data Structures**\n",
        "\n",
        "  * Arrays and Vectors\n",
        "  * Metrices\n",
        "  * Sets and Tuples"
      ]
    },
    {
      "cell_type": "markdown",
      "metadata": {
        "id": "eyCCkr00AbWi"
      },
      "source": [
        "# Creating a 1D array/vector"
      ]
    },
    {
      "cell_type": "code",
      "execution_count": null,
      "metadata": {
        "id": "UL31WKQiA1bm",
        "outputId": "61d77c83-574b-4c84-ca98-3f6f95567c3d"
      },
      "outputs": [
        {
          "data": {
            "text/plain": [
              "4-element Vector{Int64}:\n",
              " 1\n",
              " 2\n",
              " 3\n",
              " 4"
            ]
          },
          "execution_count": 124,
          "metadata": {},
          "output_type": "execute_result"
        }
      ],
      "source": [
        "Array1 = [1, 2, 3, 4]"
      ]
    },
    {
      "cell_type": "code",
      "execution_count": null,
      "metadata": {
        "id": "WsRYzDa2AbWj",
        "outputId": "01396e9c-12c1-44a7-f3bc-8991797aab26"
      },
      "outputs": [
        {
          "data": {
            "text/plain": [
              "4-element Vector{Int64}:\n",
              " 1\n",
              " 2\n",
              " 3\n",
              " 4"
            ]
          },
          "execution_count": 126,
          "metadata": {},
          "output_type": "execute_result"
        }
      ],
      "source": [
        "Array{Int64}([1, 2, 3,4])"
      ]
    },
    {
      "cell_type": "code",
      "execution_count": null,
      "metadata": {
        "id": "Ls12qWkEAbWk",
        "outputId": "e1f15b8b-64af-4923-d4c2-f72302ebcec7"
      },
      "outputs": [
        {
          "data": {
            "text/plain": [
              "4-element Vector{Int64}:\n",
              " 1\n",
              " 2\n",
              " 3\n",
              " 4"
            ]
          },
          "execution_count": 125,
          "metadata": {},
          "output_type": "execute_result"
        }
      ],
      "source": [
        "Vector{Int64}([1, 2, 3,4])"
      ]
    },
    {
      "cell_type": "code",
      "execution_count": null,
      "metadata": {
        "id": "EQSW3-8ZAbWk",
        "outputId": "89980f29-f669-44de-e4fa-d83b6b3adda3"
      },
      "outputs": [
        {
          "name": "stdout",
          "output_type": "stream",
          "text": [
            "[1, 2, 3, 4]\n",
            "2\n"
          ]
        }
      ],
      "source": [
        "println(Array1[begin:end])\n",
        "println(Array1[2])"
      ]
    },
    {
      "cell_type": "markdown",
      "metadata": {
        "id": "Yww0ZxqgAbWl"
      },
      "source": [
        "# Creating a 2D array\n"
      ]
    },
    {
      "cell_type": "code",
      "execution_count": null,
      "metadata": {
        "id": "Rr1quxwnAbWm",
        "outputId": "d63aeeb9-db97-4ab7-de6b-070a67016bda"
      },
      "outputs": [
        {
          "data": {
            "text/plain": [
              "2×3 Matrix{Int64}:\n",
              " 1  2  3\n",
              " 4  5  6"
            ]
          },
          "execution_count": 112,
          "metadata": {},
          "output_type": "execute_result"
        }
      ],
      "source": [
        "Array2 = [1 2 3; 4 5 6]"
      ]
    },
    {
      "cell_type": "code",
      "execution_count": null,
      "metadata": {
        "id": "pYE4-xWAAbWm",
        "outputId": "77878bc6-6331-4bf7-f4a8-71ee0e80dd2e"
      },
      "outputs": [
        {
          "name": "stdout",
          "output_type": "stream",
          "text": [
            "[1, 4, 2, 5, 3, 6]\n",
            "3\n",
            "3\n"
          ]
        }
      ],
      "source": [
        "println(Array2[begin:end])\n",
        "println(Array2[5])\n",
        "println(Array2[1,3])"
      ]
    },
    {
      "cell_type": "markdown",
      "metadata": {
        "id": "6ZV_T8HzAbWp"
      },
      "source": [
        "# Creating a 3D array\n",
        "## using 'cat' command"
      ]
    },
    {
      "cell_type": "code",
      "execution_count": null,
      "metadata": {
        "id": "qs4oQ5DxAbWq",
        "outputId": "02b1e10c-f73a-4ee7-e303-adb9fa0f30e7"
      },
      "outputs": [
        {
          "data": {
            "text/plain": [
              "2×2×3 Array{Int64, 3}:\n",
              "[:, :, 1] =\n",
              " 1  2\n",
              " 3  4\n",
              "\n",
              "[:, :, 2] =\n",
              " 5  6\n",
              " 7  8\n",
              "\n",
              "[:, :, 3] =\n",
              " 2  2\n",
              " 3  4"
            ]
          },
          "execution_count": 106,
          "metadata": {},
          "output_type": "execute_result"
        }
      ],
      "source": [
        "Array3 = cat([1 2; 3 4], [5 6; 7 8], [2 2; 3 4], dims = 3)"
      ]
    },
    {
      "cell_type": "code",
      "execution_count": null,
      "metadata": {
        "id": "qQbW5CIBAbWr",
        "outputId": "8438c928-e2d5-4042-d637-2f11bedde9a2"
      },
      "outputs": [
        {
          "name": "stdout",
          "output_type": "stream",
          "text": [
            "[1, 3, 2, 4, 5, 7, 6, 8, 2, 3, 2, 4]\n",
            "5\n",
            "2\n"
          ]
        }
      ],
      "source": [
        "println(Array3[begin:end])\n",
        "println(Array3[5])\n",
        "println(Array3[1,2,1])"
      ]
    },
    {
      "cell_type": "markdown",
      "metadata": {
        "id": "AujFeJpjAbWs"
      },
      "source": [
        "# Sets"
      ]
    },
    {
      "cell_type": "markdown",
      "metadata": {
        "id": "EtBwxVdAAbWt"
      },
      "source": [
        "**Creating an empty set**"
      ]
    },
    {
      "cell_type": "code",
      "execution_count": null,
      "metadata": {
        "id": "nCIAbS7QAbWt",
        "outputId": "00a1fca4-411f-4853-f934-8be6bae481ba"
      },
      "outputs": [
        {
          "name": "stdout",
          "output_type": "stream",
          "text": [
            "Empty Set: Set([3])\n"
          ]
        }
      ],
      "source": [
        "Set1 = Set(3)\n",
        "println(\"Empty Set: \", Set1)"
      ]
    },
    {
      "cell_type": "markdown",
      "metadata": {
        "id": "0rbMsMw8AbWu"
      },
      "source": [
        "**Creating a set with Integer values**"
      ]
    },
    {
      "cell_type": "code",
      "execution_count": null,
      "metadata": {
        "id": "kiFO0T7PAbWu",
        "outputId": "cef997cc-955a-40bc-b319-95aa6e966450"
      },
      "outputs": [
        {
          "name": "stdout",
          "output_type": "stream",
          "text": [
            "Set([5, 4, 6, 2, 3, 1])\n"
          ]
        }
      ],
      "source": [
        "Set2 = Set([1, 2, 3, 4, 5, 2, 4, 6])\n",
        "println(Set2)"
      ]
    },
    {
      "cell_type": "markdown",
      "metadata": {
        "id": "1Fqir5B8AbWv"
      },
      "source": [
        "**Creating a set with mixed datatypes**"
      ]
    },
    {
      "cell_type": "code",
      "execution_count": null,
      "metadata": {
        "id": "QY0W4Lg9AbWw",
        "outputId": "fe82c846-0fb2-425b-c320-b508221c78a5"
      },
      "outputs": [
        {
          "name": "stdout",
          "output_type": "stream",
          "text": [
            "Set(Any[2, \"Hello\", 3, 1, \"Cincy\"])\n",
            "Set(Any[5, 1, 4, 6, 2, \"Hello\", 3, \"Cincy\"])\n",
            "Set([3])\n"
          ]
        }
      ],
      "source": [
        "Set3 = Set([1, 2, 3, \"Hello\", \"Cincy\"])\n",
        "println(Set3)\n",
        "println(union(Set1,Set2,Set3))\n",
        "println(intersect(Set1,Set2,Set3))"
      ]
    },
    {
      "cell_type": "markdown",
      "metadata": {
        "id": "iCDYiyXfAbWw"
      },
      "source": [
        "# Creating a Tuple"
      ]
    },
    {
      "cell_type": "code",
      "execution_count": null,
      "metadata": {
        "id": "oXU3Iz98AbWx",
        "outputId": "da6410dd-a143-4f6e-e72d-c9d1f972521a"
      },
      "outputs": [
        {
          "data": {
            "text/plain": [
              "(2, 3, 4, 5)"
            ]
          },
          "execution_count": 127,
          "metadata": {},
          "output_type": "execute_result"
        }
      ],
      "source": [
        "x = (2,3,4,5)"
      ]
    },
    {
      "cell_type": "code",
      "execution_count": null,
      "metadata": {
        "id": "OxFziB0-AbWy",
        "outputId": "89090a90-47b8-43e9-839e-3ef623b0b69b"
      },
      "outputs": [
        {
          "data": {
            "text/plain": [
              "f (generic function with 2 methods)"
            ]
          },
          "execution_count": 151,
          "metadata": {},
          "output_type": "execute_result"
        }
      ],
      "source": [
        "f(x,y,z,w) = x+y+z+w"
      ]
    },
    {
      "cell_type": "code",
      "execution_count": null,
      "metadata": {
        "id": "O-N5yYTOAbWy",
        "outputId": "0216213f-2b6b-48f0-fc5d-51710d3056f9"
      },
      "outputs": [
        {
          "name": "stdout",
          "output_type": "stream",
          "text": [
            "71\n"
          ]
        },
        {
          "data": {
            "text/plain": [
              "14"
            ]
          },
          "execution_count": 150,
          "metadata": {},
          "output_type": "execute_result"
        }
      ],
      "source": [
        "println(f((9,53,4,5)...))\n",
        "f(x...)\n"
      ]
    },
    {
      "cell_type": "markdown",
      "metadata": {
        "id": "H8DNPr_vAbW0"
      },
      "source": [
        "# Hands-on  **Data Structures**\n",
        "\n",
        "<div>\n",
        "     <img src=\"https://github.com/CEASLIBRARY/Introduction-to-Julia/blob/main/Handson.png?raw=1\"  width=\"100\"  />  \n",
        "</div>"
      ]
    },
    {
      "cell_type": "markdown",
      "metadata": {
        "id": "ErLgjhgXAbW1"
      },
      "source": [
        "# some problems here"
      ]
    },
    {
      "cell_type": "markdown",
      "metadata": {
        "id": "2NzCbSiRAbW2"
      },
      "source": [
        "# **Conditional Evaluation**"
      ]
    },
    {
      "cell_type": "code",
      "execution_count": null,
      "metadata": {
        "id": "RdSsE-EMAbW3",
        "outputId": "e28ba292-f6bb-42f9-c382-9f1e1bac98cc"
      },
      "outputs": [
        {
          "data": {
            "text/plain": [
              "\"whole number\""
            ]
          },
          "execution_count": 201,
          "metadata": {},
          "output_type": "execute_result"
        }
      ],
      "source": [
        "x = 9\n",
        "if x >= 0\n",
        "    \"whole number\"\n",
        "else\n",
        "    \"-ve Number\"\n",
        "end"
      ]
    },
    {
      "cell_type": "code",
      "execution_count": null,
      "metadata": {
        "id": "fU9UgWqEAbW6",
        "outputId": "a63cba0f-136c-4854-c601-273f86712a18"
      },
      "outputs": [
        {
          "data": {
            "text/plain": [
              "\"Odd Number\""
            ]
          },
          "execution_count": 213,
          "metadata": {},
          "output_type": "execute_result"
        }
      ],
      "source": [
        "x = 9\n",
        "if mod(x,2) == 0\n",
        "    \"Even number\"\n",
        "elseif x==0\n",
        "     \"zero\"\n",
        "else\n",
        "     \"Odd Number\"\n",
        "end"
      ]
    },
    {
      "cell_type": "markdown",
      "metadata": {
        "id": "VOunq9KTAbXE"
      },
      "source": [
        "## **Ternary Operator**"
      ]
    },
    {
      "cell_type": "code",
      "execution_count": null,
      "metadata": {
        "id": "vBteTcQSAbXF",
        "outputId": "4d7982b0-8d30-43ba-99f3-902e4e4d83bf"
      },
      "outputs": [
        {
          "name": "stdout",
          "output_type": "stream",
          "text": [
            "45\n",
            "23\n"
          ]
        }
      ],
      "source": [
        "println(3>4 ? 23 : 45)\n",
        "println(30>14 ? 23 : 45)"
      ]
    },
    {
      "cell_type": "markdown",
      "metadata": {
        "id": "ZONJNaG9xPYv"
      },
      "source": [
        "# **Control Flow**\n",
        "\n",
        "### For Loops\n"
      ]
    },
    {
      "cell_type": "code",
      "execution_count": null,
      "metadata": {
        "id": "caq4w3R2AbXG",
        "outputId": "61234455-39dd-4ddc-9bc4-363fcd7e46e1"
      },
      "outputs": [
        {
          "name": "stdout",
          "output_type": "stream",
          "text": [
            "1 2 3 4 5 "
          ]
        }
      ],
      "source": [
        "for x in [1,2,3,4,5]\n",
        "    print(x,\" \")\n",
        "end"
      ]
    },
    {
      "cell_type": "code",
      "execution_count": null,
      "metadata": {
        "id": "i0wR3EGaAbXH",
        "outputId": "e7ee3a5f-6bdf-4c98-ed4d-ebd162540612"
      },
      "outputs": [
        {
          "name": "stdout",
          "output_type": "stream",
          "text": [
            "2 3 4 5 6 7 8 9 10 "
          ]
        }
      ],
      "source": [
        "for x in 2:10\n",
        "    print(x,\" \")\n",
        "end"
      ]
    },
    {
      "cell_type": "code",
      "execution_count": null,
      "metadata": {
        "id": "hMWI1JwDAbXI",
        "outputId": "52f2c7ec-46be-43b2-9d71-d8fe9e0b8b3f"
      },
      "outputs": [
        {
          "name": "stdout",
          "output_type": "stream",
          "text": [
            "0.0, \n",
            "0.75, \n",
            "1.5, \n",
            "2.25, \n",
            "3.0, \n"
          ]
        }
      ],
      "source": [
        "for y in range(0, stop=3, length=5)\n",
        "    print(y,\", \\n\")\n",
        "end"
      ]
    },
    {
      "cell_type": "markdown",
      "metadata": {
        "id": "XJyRFtsNAbXL"
      },
      "source": [
        "## Nested Statements as cartesian product"
      ]
    },
    {
      "cell_type": "code",
      "execution_count": null,
      "metadata": {
        "id": "rdDNTInGAbXN",
        "outputId": "7fe82cf3-b979-4ce6-86cf-68b32fd669fe"
      },
      "outputs": [
        {
          "name": "stdout",
          "output_type": "stream",
          "text": [
            "(3, 1)(3, 2)(3, 3)(3, 4)(4, 1)(4, 2)(4, 3)(4, 4)(5, 1)(5, 2)(5, 3)(5, 4)"
          ]
        }
      ],
      "source": [
        "for i = 3:5, j = 1:4\n",
        "    print((i, j))\n",
        "end"
      ]
    },
    {
      "cell_type": "markdown",
      "metadata": {
        "id": "HfS4y_6OAbXP"
      },
      "source": [
        "### While Loops\n"
      ]
    },
    {
      "cell_type": "code",
      "execution_count": null,
      "metadata": {
        "id": "6X4ddrsgAbXR",
        "outputId": "69c3a4c7-74ef-4760-d432-16341bf93538"
      },
      "outputs": [
        {
          "name": "stdout",
          "output_type": "stream",
          "text": [
            "1\n",
            "2\n",
            "3\n",
            "4\n",
            "5\n"
          ]
        }
      ],
      "source": [
        "x = Array{Int64}([1,2,3,4,5])\n",
        "i = 1\n",
        "while i <= length(x)\n",
        "    println(x[i])\n",
        "    i = i + 1\n",
        "end"
      ]
    },
    {
      "cell_type": "markdown",
      "metadata": {
        "id": "0vJJW8phAbXT"
      },
      "source": [
        "## Iterators for Lists"
      ]
    },
    {
      "cell_type": "code",
      "execution_count": null,
      "metadata": {
        "id": "X0Q5HQFrAbXW",
        "outputId": "6adc5468-79cc-4b32-93b4-44e06c2819b6"
      },
      "outputs": [
        {
          "name": "stdout",
          "output_type": "stream",
          "text": [
            "54321"
          ]
        }
      ],
      "source": [
        "for y in Iterators.reverse(x)\n",
        "    print(y)\n",
        "end"
      ]
    },
    {
      "cell_type": "markdown",
      "metadata": {
        "id": "WGPRsPhTAFBz"
      },
      "source": [
        "Excercises"
      ]
    },
    {
      "cell_type": "markdown",
      "metadata": {
        "id": "PdbfL9zZC_Os"
      },
      "source": [
        "Do some computation"
      ]
    },
    {
      "cell_type": "code",
      "execution_count": null,
      "metadata": {
        "id": "X2bMWvaaDDhN"
      },
      "outputs": [],
      "source": [
        "Tax computation"
      ]
    },
    {
      "cell_type": "markdown",
      "metadata": {
        "id": "Q1acBD8KAbXZ"
      },
      "source": [
        "# For more on Julia visit online resources\n",
        "* [Official Documentation at julialang.org](https://docs.julialang.org/en/v1/)\n",
        "* [UC Irvin: Julia in Depth for data Scientists](http://ucidatascienceinitiative.github.io/IntroToJulia/)\n"
      ]
    },
    {
      "cell_type": "markdown",
      "metadata": {
        "id": "eCPv-6AIExoP"
      },
      "source": [
        "# Interesting Links and News\n",
        "\n",
        "\n",
        "*   Programming Basics\n",
        "    * Intangible Side of Programming\n",
        "      * Critical Thinking : [Coding develops CT](https://thesassway.com/what-is-critical-thinking-in-computer-science/)\n",
        "      * Mathamatics : [Computational Programming](https://www.quantamagazine.org/computing-expert-says-programmers-need-more-math-20220517/)\n",
        "      * Logical Development : [How to Think Logically](https://www.geeksforgeeks.org/i-cant-use-logic-in-programming-what-should-i-do/)\n",
        "      * Art of articulating your mind : [putting thoughts into words](https://milesberry.net/2021/11/practical-programming/)\n",
        "    * Tangible Side of Programming\n",
        "      * Syntax Learning : [Grammer](https://pgrandinetti.github.io/compilers/page/what-is-a-programming-language-grammar/#:~:text=A%20Programming%20Language%20Grammar%20is,statements%20(also%20called%20sentences).)\n",
        "      * Programming Constructs : [Sentence Formation](https://cgi.csc.liv.ac.uk/~frans/OldLectures/2CS45/progCons/progCons.html)\n",
        "      * Program Flow : [Control Flow](https://en.wikipedia.org/wiki/Control_flow)\n",
        "      * Programming Features : [Writing Style](https://scoutapm.com/blog/functional-vs-procedural-vs-oop)"
      ]
    },
    {
      "cell_type": "markdown",
      "metadata": {
        "id": "x5nRI3OqFKhP"
      },
      "source": [
        "# Upcoming Julia Workshop\n",
        "* **Julia for Mathematician : Functions and Plots**\n",
        "* **Data Visualization with Julia**"
      ]
    }
  ],
  "metadata": {
    "colab": {
      "collapsed_sections": [],
      "name": "Julia.ipynb",
      "provenance": []
    },
    "kernelspec": {
      "display_name": "Julia 1.7.2",
      "language": "julia",
      "name": "julia-1.7"
    },
    "language_info": {
      "file_extension": ".jl",
      "mimetype": "application/julia",
      "name": "julia",
      "version": "1.7.2"
    }
  },
  "nbformat": 4,
  "nbformat_minor": 0
}