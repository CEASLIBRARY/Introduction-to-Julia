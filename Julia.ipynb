{
  "nbformat": 4,
  "nbformat_minor": 0,
  "metadata": {
    "colab": {
      "name": "Julia.ipynb",
      "provenance": [],
      "collapsed_sections": []
    },
    "kernelspec": {
      "display_name": "Python 3",
      "name": "python3"
    },
    "language_info": {
      "name": "python"
    }
  },
  "cells": [
    {
      "cell_type": "markdown",
      "source": [
        "# **Workshop : Introduction to Julia** \n",
        "\n",
        "## **Objectives**\n",
        "1. Introduction to Julia \n",
        "  * Basics of Julia :  a brief backgound\n",
        "  * Syntax\n",
        "  * Variables and Constants\n",
        "  * Data Types\n",
        "  * Data Structures\n",
        "    * Vectors\n",
        "    * Lists\n",
        "    * Queues\n",
        "    * Data Frames\n",
        "  * Operators\n",
        "  * Functions\n",
        "\n",
        "\n",
        "\n",
        "\n",
        "\n",
        "\n"
      ],
      "metadata": {
        "id": "xEt6HbN0b7q8"
      }
    },
    {
      "cell_type": "markdown",
      "source": [
        "#Introduction\n",
        "\n",
        "## What is Julia\n",
        "\n",
        "## Ways to run Julia"
      ],
      "metadata": {
        "id": "mopW6FKfHG7h"
      }
    },
    {
      "cell_type": "markdown",
      "source": [
        "Variables"
      ],
      "metadata": {
        "id": "J-xD3qMMcA4k"
      }
    },
    {
      "cell_type": "code",
      "source": [
        "x = 5\n"
      ],
      "metadata": {
        "id": "Rrwzz2uOAPXZ"
      },
      "execution_count": null,
      "outputs": []
    },
    {
      "cell_type": "code",
      "source": [
        "x:Int = 5"
      ],
      "metadata": {
        "id": "gNWIQmb7ARce"
      },
      "execution_count": null,
      "outputs": []
    },
    {
      "cell_type": "markdown",
      "source": [
        "Variable Names"
      ],
      "metadata": {
        "id": "jEt1L11vAXXn"
      }
    },
    {
      "cell_type": "code",
      "source": [
        "\\pi \\epsilon  \n"
      ],
      "metadata": {
        "id": "JpZ5HpQyAiXm"
      },
      "execution_count": null,
      "outputs": []
    },
    {
      "cell_type": "markdown",
      "source": [
        "Latex Supported Symbols as varibles and constants\n"
      ],
      "metadata": {
        "id": "YfTcYznkApt5"
      }
    },
    {
      "cell_type": "code",
      "source": [
        ""
      ],
      "metadata": {
        "id": "LH9k7gmRAoqg"
      },
      "execution_count": null,
      "outputs": []
    },
    {
      "cell_type": "markdown",
      "source": [
        "Data Types\n",
        "* Int,Float,Double\n",
        "\n",
        "Data Structures\n",
        "\n",
        "* Arrays, Vectors and Lists\n",
        "* Data Frames\n",
        "* Dictionaries"
      ],
      "metadata": {
        "id": "LnbKsiN-BPa5"
      }
    },
    {
      "cell_type": "code",
      "source": [
        "x =Any[]"
      ],
      "metadata": {
        "id": "UL31WKQiA1bm"
      },
      "execution_count": null,
      "outputs": []
    },
    {
      "cell_type": "markdown",
      "source": [
        "General Operators"
      ],
      "metadata": {
        "id": "9e8FxO1WB-m8"
      }
    },
    {
      "cell_type": "code",
      "source": [
        "+\n",
        "-\n",
        ".+\n",
        ".*\n"
      ],
      "metadata": {
        "id": "vUkSSEtCB7zL"
      },
      "execution_count": null,
      "outputs": []
    },
    {
      "cell_type": "markdown",
      "source": [
        "Comments \n",
        "* Single Line Comment\n",
        "* Multiple Line Comments"
      ],
      "metadata": {
        "id": "QriGo9JvCHcg"
      }
    },
    {
      "cell_type": "code",
      "source": [
        "#\n",
        "#"
      ],
      "metadata": {
        "id": "mvT_f4wWB5SB"
      },
      "execution_count": null,
      "outputs": []
    },
    {
      "cell_type": "code",
      "source": [
        "#=\n",
        "=#"
      ],
      "metadata": {
        "id": "mLn9VeSOBxqe"
      },
      "execution_count": null,
      "outputs": []
    },
    {
      "cell_type": "markdown",
      "source": [
        "Excercises"
      ],
      "metadata": {
        "id": "WGPRsPhTAFBz"
      }
    },
    {
      "cell_type": "markdown",
      "source": [
        "Do some computation"
      ],
      "metadata": {
        "id": "PdbfL9zZC_Os"
      }
    },
    {
      "cell_type": "code",
      "source": [
        "Tax computation"
      ],
      "metadata": {
        "id": "X2bMWvaaDDhN"
      },
      "execution_count": null,
      "outputs": []
    },
    {
      "cell_type": "markdown",
      "source": [
        "Generic *Function*"
      ],
      "metadata": {
        "id": "ALSUFSWvcBPb"
      }
    },
    {
      "cell_type": "code",
      "source": [
        "h(x,y) = sqrt(x^2+y^2)"
      ],
      "metadata": {
        "colab": {
          "base_uri": "https://localhost:8080/",
          "height": 131
        },
        "id": "wYwaPtAPGuZg",
        "outputId": "a007c40d-69e9-412b-b0b8-e4eca5eed253"
      },
      "execution_count": null,
      "outputs": [
        {
          "output_type": "error",
          "ename": "SyntaxError",
          "evalue": "ignored",
          "traceback": [
            "\u001b[0;36m  File \u001b[0;32m\"<ipython-input-3-bbd564a810f5>\"\u001b[0;36m, line \u001b[0;32m1\u001b[0m\n\u001b[0;31m    h(x,y) = sqrt(x^2+y^2)\u001b[0m\n\u001b[0m                          ^\u001b[0m\n\u001b[0;31mSyntaxError\u001b[0m\u001b[0;31m:\u001b[0m can't assign to function call\n"
          ]
        }
      ]
    },
    {
      "cell_type": "markdown",
      "source": [
        "Multiline functions"
      ],
      "metadata": {
        "id": "XXRmn12tClwd"
      }
    },
    {
      "cell_type": "code",
      "source": [
        "function functonname( parameters,...)\n",
        "   do something\n",
        "   return\n",
        "end"
      ],
      "metadata": {
        "id": "cZwIOzVBCgcs"
      },
      "execution_count": null,
      "outputs": []
    },
    {
      "cell_type": "markdown",
      "source": [
        "Arrays, vectors and lists"
      ],
      "metadata": {
        "id": "vMkfBVWEC20i"
      }
    },
    {
      "cell_type": "markdown",
      "source": [
        "x = Any[ ]\n",
        "\n",
        "y = [ ]\n"
      ],
      "metadata": {
        "id": "Fs_X0cYJDRHs"
      }
    },
    {
      "cell_type": "code",
      "source": [
        ""
      ],
      "metadata": {
        "id": "rpFa3Ca5Ddgi"
      },
      "execution_count": null,
      "outputs": []
    },
    {
      "cell_type": "markdown",
      "source": [
        "Strings"
      ],
      "metadata": {
        "id": "YsrYvN0nDef6"
      }
    },
    {
      "cell_type": "code",
      "source": [
        "Declaration"
      ],
      "metadata": {
        "id": "GuJ1utjJDikb"
      },
      "execution_count": null,
      "outputs": []
    },
    {
      "cell_type": "markdown",
      "source": [
        "Slicing"
      ],
      "metadata": {
        "id": "DmrwDJRIDnci"
      }
    },
    {
      "cell_type": "code",
      "source": [
        "Get the chunkout of array or list"
      ],
      "metadata": {
        "id": "yE46N6J0DrFY"
      },
      "execution_count": null,
      "outputs": []
    },
    {
      "cell_type": "markdown",
      "source": [
        "Sets"
      ],
      "metadata": {
        "id": "A5QNdOvBD5ZI"
      }
    },
    {
      "cell_type": "code",
      "source": [
        "Get some set code"
      ],
      "metadata": {
        "id": "js7pxyVoD7uZ"
      },
      "execution_count": null,
      "outputs": []
    },
    {
      "cell_type": "markdown",
      "source": [
        "# Appendix\n",
        "\n",
        "\n",
        "*   Programming Basics\n",
        "    * Intangible Side of Programming\n",
        "      * Critical Thinking : [Coding develops CT](https://thesassway.com/what-is-critical-thinking-in-computer-science/)\n",
        "      * Mathamatics : [Computational Programming](https://www.quantamagazine.org/computing-expert-says-programmers-need-more-math-20220517/)\n",
        "      * Logical Development : [How to Think Logically](https://www.geeksforgeeks.org/i-cant-use-logic-in-programming-what-should-i-do/)\n",
        "      * Art of articulating your mind : [putting thoughts into words](https://milesberry.net/2021/11/practical-programming/)\n",
        "    * Tangible Side of Programming\n",
        "      * Syntax Learning : [Grammer](https://pgrandinetti.github.io/compilers/page/what-is-a-programming-language-grammar/#:~:text=A%20Programming%20Language%20Grammar%20is,statements%20(also%20called%20sentences).)\n",
        "      * Programming Constructs : [Sentence Formation](https://cgi.csc.liv.ac.uk/~frans/OldLectures/2CS45/progCons/progCons.html)\n",
        "      * Program Flow : [Control Flow](https://en.wikipedia.org/wiki/Control_flow)\n",
        "      * Programming Features : [Writing Style](https://scoutapm.com/blog/functional-vs-procedural-vs-oop)"
      ],
      "metadata": {
        "id": "eCPv-6AIExoP"
      }
    },
    {
      "cell_type": "markdown",
      "source": [
        "Advanced and Future Topics\n",
        "\n",
        "* Control Flows\n",
        "\n",
        "* Functions and Variable scope\n",
        "\n",
        "* Classes/Objects\n",
        "\n",
        "* Modules and Imports\n",
        "\n",
        "* Packages and Libraries\n",
        "\n",
        "* File I/O\n",
        "\n",
        "* Python for Data Analysis\n",
        "\n",
        "* Python for Data Visualiz ation\n",
        "\n",
        "* Error Handling and Exceptions\n",
        "\n",
        "* List Comprehension\n",
        "\n",
        "* Regular Expressions\n",
        "\n",
        "* Database Access\n",
        "\n",
        "* Multithreading\n"
      ],
      "metadata": {
        "id": "kORMN_B2D_Yi"
      }
    },
    {
      "cell_type": "markdown",
      "source": [
        "# Upcoming Julia Workshop\n",
        "1. Julia for Mathematician : Functions and Plots\n",
        "  * Mathematical Symbols\n",
        "  * Functions with mathamatical notations\n",
        "  * Plot your Functions\n",
        "  \n",
        "\n",
        "2. Julia Graphics: Curves and Fractals\n",
        "  * Equation of Line\n",
        "  * Right Angle Triangles\n",
        "  * Plot Triangles and Squares\n",
        "  * Pythagoras Theorem\n",
        "  * Pythagorean Tree\n",
        "    * Order 0\n",
        "    * Order 1\n",
        "    * Orger n\n",
        "    * Angle 45°\n",
        "    * Angle 30°\n",
        "    * Angle Θ°\n"
      ],
      "metadata": {
        "id": "x5nRI3OqFKhP"
      }
    }
  ]
}