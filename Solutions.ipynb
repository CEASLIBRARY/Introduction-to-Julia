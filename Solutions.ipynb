{
  "nbformat": 4,
  "nbformat_minor": 0,
  "metadata": {
    "colab": {
      "name": "Solutions.ipynb",
      "provenance": [],
      "collapsed_sections": [],
      "authorship_tag": "ABX9TyOY/iIyzo9tirGMHT/Evk48",
      "include_colab_link": true
    },
    "kernelspec": {
      "name": "python3",
      "display_name": "Python 3"
    },
    "language_info": {
      "name": "python"
    }
  },
  "cells": [
    {
      "cell_type": "markdown",
      "metadata": {
        "id": "view-in-github",
        "colab_type": "text"
      },
      "source": [
        "<a href=\"https://colab.research.google.com/github/CEASLIBRARY/Introduction-to-Julia/blob/main/Solutions.ipynb\" target=\"_parent\"><img src=\"https://colab.research.google.com/assets/colab-badge.svg\" alt=\"Open In Colab\"/></a>"
      ]
    },
    {
      "cell_type": "code",
      "source": [
        "%%shell\n",
        "set -e\n",
        "\n",
        "#---------------------------------------------------#\n",
        "JULIA_VERSION=\"1.7.1\" # any version ≥ 0.7.0\n",
        "JULIA_PACKAGES=\"IJulia BenchmarkTools Plots\"\n",
        "JULIA_PACKAGES_IF_GPU=\"CUDA\" # or CuArrays for older Julia versions\n",
        "JULIA_NUM_THREADS=2\n",
        "#---------------------------------------------------#\n",
        "\n",
        "if [ -n \"$COLAB_GPU\" ] && [ -z `which julia` ]; then\n",
        "  # Install Julia\n",
        "  JULIA_VER=`cut -d '.' -f -2 <<< \"$JULIA_VERSION\"`\n",
        "  echo \"Installing Julia $JULIA_VERSION on the current Colab Runtime...\"\n",
        "  BASE_URL=\"https://julialang-s3.julialang.org/bin/linux/x64\"\n",
        "  URL=\"$BASE_URL/$JULIA_VER/julia-$JULIA_VERSION-linux-x86_64.tar.gz\"\n",
        "  wget -nv $URL -O /tmp/julia.tar.gz # -nv means \"not verbose\"\n",
        "  tar -x -f /tmp/julia.tar.gz -C /usr/local --strip-components 1\n",
        "  rm /tmp/julia.tar.gz\n",
        "\n",
        "  # Install Packages\n",
        "  if [ \"$COLAB_GPU\" = \"1\" ]; then\n",
        "      JULIA_PACKAGES=\"$JULIA_PACKAGES $JULIA_PACKAGES_IF_GPU\"\n",
        "  fi\n",
        "  for PKG in `echo $JULIA_PACKAGES`; do\n",
        "    echo \"Installing Julia package $PKG...\"\n",
        "    julia -e 'using Pkg; pkg\"add '$PKG'; precompile;\"' &> /dev/null\n",
        "  done\n",
        "\n",
        "  # Install kernel and rename it to \"julia\"\n",
        "  echo \"Installing IJulia kernel...\"\n",
        "  julia -e 'using IJulia; IJulia.installkernel(\"julia\", env=Dict(\n",
        "      \"JULIA_NUM_THREADS\"=>\"'\"$JULIA_NUM_THREADS\"'\"))'\n",
        "  KERNEL_DIR=`julia -e \"using IJulia; print(IJulia.kerneldir())\"`\n",
        "  KERNEL_NAME=`ls -d \"$KERNEL_DIR\"/julia*`\n",
        "  mv -f $KERNEL_NAME \"$KERNEL_DIR\"/julia  \n",
        "\n",
        "  echo ''\n",
        "  echo \"Successfully installed `julia -v`!\"\n",
        "  echo \"Please reload this page (press Ctrl+R, ⌘+R, or the F5 key) then\"\n",
        "  echo \"jump to the 'Checking the Installation' section.\"\n",
        "fi"
      ],
      "metadata": {
        "colab": {
          "base_uri": "https://localhost:8080/"
        },
        "id": "0PUYlZTtT_us",
        "outputId": "11c209bc-01e0-4699-b2fa-19733102ac6e"
      },
      "execution_count": 6,
      "outputs": [
        {
          "output_type": "stream",
          "name": "stdout",
          "text": [
            "Installing Julia 1.7.1 on the current Colab Runtime...\n",
            "2022-07-12 16:48:45 URL:https://storage.googleapis.com/julialang2/bin/linux/x64/1.7/julia-1.7.1-linux-x86_64.tar.gz [123374573/123374573] -> \"/tmp/julia.tar.gz\" [1]\n",
            "Installing Julia package IJulia...\n",
            "Installing Julia package BenchmarkTools...\n",
            "Installing Julia package Plots...\n",
            "Installing IJulia kernel...\n",
            "\u001b[36m\u001b[1m[ \u001b[22m\u001b[39m\u001b[36m\u001b[1mInfo: \u001b[22m\u001b[39mInstalling julia kernelspec in /root/.local/share/jupyter/kernels/julia-1.7\n",
            "\n",
            "Successfully installed julia version 1.7.1!\n",
            "Please reload this page (press Ctrl+R, ⌘+R, or the F5 key) then\n",
            "jump to the 'Checking the Installation' section.\n"
          ]
        },
        {
          "output_type": "execute_result",
          "data": {
            "text/plain": [
              ""
            ]
          },
          "metadata": {},
          "execution_count": 6
        }
      ]
    },
    {
      "cell_type": "code",
      "execution_count": 5,
      "metadata": {
        "colab": {
          "base_uri": "https://localhost:8080/"
        },
        "id": "C7B2ANlaLHmi",
        "outputId": "6b5d84a3-9d0d-4402-8165-5842fef77c6b"
      },
      "outputs": [
        {
          "output_type": "stream",
          "name": "stdout",
          "text": [
            "12.0\n",
            "51.863137138648355\n"
          ]
        }
      ],
      "source": [
        "# Exercise 1\n",
        "# Simple Arithmatic Problem\n",
        "#Rule of 72:\n",
        "#Your initial deposit of X$ will double in 72/R years, where R is the annual interest rate.\n",
        "\n",
        "#here \n",
        "Initial_Amount = 50000 #$\n",
        "rate = 6  #%\n",
        "#Part 1\n",
        "Doubling_time = 72/6\n",
        "\n",
        "print(Doubling_time)\n",
        "\n",
        "#Part 2\n",
        "\n",
        "#The time to become a millioniare is given by following formulae:\n",
        "#log(2,Final_Amount_Required/Initial_Amount)*Doubling_Time\n",
        "Final_Amount_Required = 1000000 #$\n",
        "\n",
        "Time_to_Millioniare = log(2,Final_Amount_Required/Initial_Amount)*Doubling_time\n",
        "\n",
        "print(Time_to_Millioniare)"
      ]
    },
    {
      "cell_type": "code",
      "source": [
        "# Exercise 2 \n",
        "#String Indexing and Operations on Strings\n",
        "#Generate Cincinnati word by merging letters[cinat]; you can replicate your substrings\n",
        "\n",
        "# Use String Slicing Technique to get subStrings\n",
        "#Replicate CIN substring using power operator (^) to get cincin\n",
        "#append the substring \"nat\" to get cincinnat using concatenation operator (*)\n",
        "# Finnaly append i to get Cincinnati using (*)\n",
        "x = \"cinat\"\n",
        "println(x[begin:3]^2*x[3:end]*x[2])\n"
      ],
      "metadata": {
        "id": "l7HN-FzsNsAY"
      },
      "execution_count": null,
      "outputs": []
    },
    {
      "cell_type": "code",
      "source": [
        "# Exercise 3\n",
        "Peoples = [\"Andrew\",\"Natasha\",\"Phil\",\"Mark\",\"Yan\",\"Jeff\",\"John\",\"Alper\",\"Andy\",\"Emiley\"]\n",
        "# Set Operations\n",
        "# In a group of 50 people, 35 speak Hindi, 25 speak both English and Hindi, and all people speak at least one of the two languages. \n",
        "# How many people speak only Hindi and not English?\n",
        "\n",
        "#Create a set of tuples.\n",
        "#Each tuple represent a name and language of person.\n",
        "#Somewhat like this [(Andrew,English),(Natasha, Hindi), (Phil, English-Hindi) ... So on]\n",
        "\n",
        "for i in 1:50\n",
        "    "
      ],
      "metadata": {
        "id": "2Out9MBEPfhz"
      },
      "execution_count": null,
      "outputs": []
    },
    {
      "cell_type": "code",
      "source": [
        "# Exercise 4\n",
        "\n",
        "#Check whether a string is a palindrome or not?\n",
        "\n",
        "#\"Madam, I'm Adam\", and \"a nut for a jar of tuna.\"\n",
        "\n",
        "# First remove any character apart from valid alphabetical characters \n",
        "# and turn the string to lower case\n",
        "\n",
        "# Easy Solution\n",
        "# Check if the string reads reads same forward and backward\n",
        "\n",
        "# Elegant Solution\n",
        "# 1. See if First and Last Character is same. If not: return \"False\"\n",
        "# 2. If yes: then generate substring by removing first and last character\n",
        "# 3. Repeate from step 1\n",
        "\n",
        "X = \"Madam, I'm Adam\"\n",
        "X = lowercase(X)\n",
        "Y = \"a nut for a jar of tuna.\"\n",
        "Y = lowercase(Y)\n",
        "regex = r\"[A-Z]*[a-z]*[A-Z]*[a-z]*\"\n",
        "m = match(regex, X)\n",
        "X = m.match\n",
        "print(X)\n",
        "\n",
        "m = match(regex, Y)\n",
        "Y = m.match\n",
        "print(Y)\n",
        "\n"
      ],
      "metadata": {
        "id": "gu_d5CzgQOPJ"
      },
      "execution_count": null,
      "outputs": []
    },
    {
      "cell_type": "markdown",
      "source": [
        ""
      ],
      "metadata": {
        "id": "vBrGSiAqT-Qb"
      }
    }
  ]
}