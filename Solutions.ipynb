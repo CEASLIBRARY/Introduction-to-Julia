{
  "nbformat": 4,
  "nbformat_minor": 0,
  "metadata": {
    "colab": {
      "name": "Solutions.ipynb",
      "provenance": [],
      "collapsed_sections": [],
      "authorship_tag": "ABX9TyMcznFw+acAW7qNN9SqU/pR",
      "include_colab_link": true
    },
    "kernelspec": {
      "name": "python3",
      "display_name": "Python 3"
    },
    "language_info": {
      "name": "python"
    }
  },
  "cells": [
    {
      "cell_type": "markdown",
      "metadata": {
        "id": "view-in-github",
        "colab_type": "text"
      },
      "source": [
        "<a href=\"https://colab.research.google.com/github/CEASLIBRARY/Introduction-to-Julia/blob/main/Solutions.ipynb\" target=\"_parent\"><img src=\"https://colab.research.google.com/assets/colab-badge.svg\" alt=\"Open In Colab\"/></a>"
      ]
    },
    {
      "cell_type": "code",
      "execution_count": 5,
      "metadata": {
        "colab": {
          "base_uri": "https://localhost:8080/"
        },
        "id": "C7B2ANlaLHmi",
        "outputId": "6b5d84a3-9d0d-4402-8165-5842fef77c6b"
      },
      "outputs": [
        {
          "output_type": "stream",
          "name": "stdout",
          "text": [
            "12.0\n",
            "51.863137138648355\n"
          ]
        }
      ],
      "source": [
        "# Exercise 1\n",
        "# Simple Arithmatic Problem\n",
        "#Rule of 72:\n",
        "#Your initial deposit of X$ will double in 72/R years, where R is the annual interest rate.\n",
        "\n",
        "#here \n",
        "Initial_Amount = 50000 #$\n",
        "rate = 6  #%\n",
        "#Part 1\n",
        "Doubling_time = 72/6\n",
        "\n",
        "print(Doubling_time)\n",
        "\n",
        "#Part 2\n",
        "\n",
        "#The time to become a millioniare is given by following formulae:\n",
        "#log(2,Final_Amount_Required/Initial_Amount)*Doubling_Time\n",
        "Final_Amount_Required = 1000000 #$\n",
        "\n",
        "Time_to_Millioniare = log(2,Final_Amount_Required/Initial_Amount)*Doubling_time\n",
        "\n",
        "print(Time_to_Millioniare)"
      ]
    },
    {
      "cell_type": "code",
      "source": [
        "# Exercise 2 \n",
        "#String Indexing and Operations on Strings\n",
        "#Generate Cincinnati word by merging letters[cinat]; you can replicate your substrings\n",
        "\n",
        "# Use String Slicing Technique to get subStrings\n",
        "#Replicate CIN substring using power operator (^) to get cincin\n",
        "#append the substring \"nat\" to get cincinnat using concatenation operator (*)\n",
        "# Finnaly append i to get Cincinnati using (*)\n",
        "x = \"cinat\"\n",
        "println(x[begin:3]^2*x[3:end]*x[2])\n"
      ],
      "metadata": {
        "id": "l7HN-FzsNsAY"
      },
      "execution_count": null,
      "outputs": []
    },
    {
      "cell_type": "code",
      "source": [
        "# Exercise 3\n",
        "\n",
        "# Set Operations\n",
        "# In a group of 50 people, 35 speak Hindi, 25 speak both English and Hindi, and all people speak at least one of the two languages. \n",
        "# How many people speak only Hindi and not English?\n",
        "\n",
        "#Create a set of tuples.\n",
        "#Each tuple represent a name and language of person.\n",
        "#Somewhat like this [(Andrew,English),(Natasha, Hindi), (Phil, English-Hindi) ... So on]\n"
      ],
      "metadata": {
        "id": "2Out9MBEPfhz"
      },
      "execution_count": null,
      "outputs": []
    },
    {
      "cell_type": "code",
      "source": [
        "# Exercise 4\n",
        "\n",
        "#Check whether a string is a palindrome or not?\n",
        "\n",
        "#\"Madam, I'm Adam\", and \"a nut for a jar of tuna.\"\n",
        "\n",
        "# First remove any character apart from valid alphabetical characters \n",
        "# and turn the string to lower case\n",
        "\n",
        "# Easy Solution\n",
        "# Check if the string reads reads same forward and backward\n",
        "\n",
        "# Elegant Solution\n",
        "# 1. See if First and Last Character is same. If not: return \"False\"\n",
        "# 2. If yes: then generate substring by removing first and last character\n",
        "# 3. Repeate from step 1\n",
        "\n",
        "\n",
        "\n"
      ],
      "metadata": {
        "id": "gu_d5CzgQOPJ"
      },
      "execution_count": null,
      "outputs": []
    }
  ]
}