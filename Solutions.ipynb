{
  "nbformat": 4,
  "nbformat_minor": 0,
  "metadata": {
    "colab": {
      "name": "Solutions.ipynb",
      "provenance": [],
      "authorship_tag": "ABX9TyN08b8Jz7dnwFEv3ynQvOtP",
      "include_colab_link": true
    },
    "kernelspec": {
      "name": "python3",
      "display_name": "Python 3"
    },
    "language_info": {
      "name": "python"
    }
  },
  "cells": [
    {
      "cell_type": "markdown",
      "metadata": {
        "id": "view-in-github",
        "colab_type": "text"
      },
      "source": [
        "<a href=\"https://colab.research.google.com/github/CEASLIBRARY/Introduction-to-Julia/blob/main/Solutions.ipynb\" target=\"_parent\"><img src=\"https://colab.research.google.com/assets/colab-badge.svg\" alt=\"Open In Colab\"/></a>"
      ]
    },
    {
      "cell_type": "code",
      "execution_count": 5,
      "metadata": {
        "colab": {
          "base_uri": "https://localhost:8080/"
        },
        "id": "C7B2ANlaLHmi",
        "outputId": "6b5d84a3-9d0d-4402-8165-5842fef77c6b"
      },
      "outputs": [
        {
          "output_type": "stream",
          "name": "stdout",
          "text": [
            "12.0\n",
            "51.863137138648355\n"
          ]
        }
      ],
      "source": [
        "# Exercise 1\n",
        "# Simple Arithmatic Problem\n",
        "#Rule of 72:\n",
        "#Your initial deposit of X$ will double in 72/R years, where R is the annual interest rate.\n",
        "\n",
        "#here \n",
        "Initial_Amount = 50000 #$\n",
        "rate = 6  #%\n",
        "#Part 1\n",
        "Doubling_time = 72/6\n",
        "\n",
        "print(Doubling_time)\n",
        "\n",
        "#Part 2\n",
        "\n",
        "#The time to become a millioniare is given by following formulae:\n",
        "#log(2,Final_Amount_Required/Initial_Amount)*Doubling_Time\n",
        "Final_Amount_Required = 1000000 #$\n",
        "\n",
        "Time_to_Millioniare = log(2,Final_Amount_Required/Initial_Amount)*Doubling_time\n",
        "\n",
        "print(Time_to_Millioniare)"
      ]
    },
    {
      "cell_type": "code",
      "source": [
        "# Exercise 2 \n",
        "#String Indexing and Operations on Strings\n",
        "#Generate Cincinnati word by merging letters[cinat]; you can replicate your substrings\n",
        "\n",
        "# Use String Slicing Technique to get subStrings\n",
        "#Replicate CIN substring using power operator (^) to get cincin\n",
        "#append the substring \"nat\" to get cincinnat using concatenation operator (*)\n",
        "# Finnaly append i to get Cincinnati using (*)\n",
        "x = \"cinat\"\n",
        "println(x[begin:3]^2*x[3:end]*x[2])\n"
      ],
      "metadata": {
        "id": "l7HN-FzsNsAY"
      },
      "execution_count": null,
      "outputs": []
    }
  ]
}